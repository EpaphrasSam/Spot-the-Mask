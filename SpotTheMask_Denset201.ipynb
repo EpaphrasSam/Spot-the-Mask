{
 "cells": [
  {
   "cell_type": "code",
   "execution_count": 1,
   "metadata": {},
   "outputs": [],
   "source": [
    "import os\n",
    "import pandas as pd\n",
    "import tensorflow as tf\n",
    "import numpy as np\n",
    "import matplotlib.pyplot as plt\n",
    "from tensorflow.keras.utils import img_to_array, load_img\n",
    "# from keras_preprocessing.image import img_to_array, load_img\n",
    "from tensorflow.keras.preprocessing.image import ImageDataGenerator \n",
    "from tensorflow.keras.applications.densenet import DenseNet201, preprocess_input\n",
    "from tensorflow.keras.callbacks import EarlyStopping\n",
    "from tensorflow.keras.models import Sequential\n",
    "from tensorflow.keras.layers import Flatten, Dense, Dropout, GlobalAveragePooling2D\n",
    "from tensorflow.keras.models import Model\n",
    "from shutil import copyfile\n",
    "\n",
    "from sklearn.model_selection import train_test_split\n",
    "import cv2\n",
    "import tensorflow.keras.utils as image\n",
    "import shutil"
   ]
  },
  {
   "cell_type": "code",
   "execution_count": 2,
   "metadata": {},
   "outputs": [],
   "source": [
    "image_dir = './data/'\n",
    "with_mask_dir = './trained_data/with_mask'\n",
    "without_mask_dir = './trained_data/without_mask'"
   ]
  },
  {
   "cell_type": "code",
   "execution_count": 3,
   "metadata": {},
   "outputs": [],
   "source": [
    "df = pd.read_csv('./train_labels.csv')"
   ]
  },
  {
   "cell_type": "code",
   "execution_count": 4,
   "metadata": {},
   "outputs": [],
   "source": [
    "# for index, row in df.iterrows():\n",
    "#     filename = row['image']\n",
    "#     label = row['target']\n",
    "#     if label == 0:\n",
    "#         dest_dir = without_mask_dir\n",
    "#     else:\n",
    "#         dest_dir = with_mask_dir\n",
    "#     if not os.path.exists(dest_dir):\n",
    "#         os.makedirs(dest_dir)\n",
    "#     src_path = os.path.join(image_dir, filename)\n",
    "#     dest_path = os.path.join(dest_dir, filename)\n",
    "#     copyfile(src_path, dest_path)"
   ]
  },
  {
   "cell_type": "code",
   "execution_count": 5,
   "metadata": {},
   "outputs": [],
   "source": [
    "dataset_path = './trained_data/'\n",
    "img_size = (224, 224)\n",
    "batch_size = 32"
   ]
  },
  {
   "cell_type": "code",
   "execution_count": 6,
   "metadata": {},
   "outputs": [],
   "source": [
    "data_generator = ImageDataGenerator(\n",
    "    rescale=1./255,\n",
    "    rotation_range=20,\n",
    "    width_shift_range=0.2,\n",
    "    height_shift_range=0.2,\n",
    "    shear_range=0.2,\n",
    "    zoom_range=0.2,\n",
    "    horizontal_flip=True,\n",
    "    fill_mode='nearest')"
   ]
  },
  {
   "cell_type": "code",
   "execution_count": 7,
   "metadata": {},
   "outputs": [
    {
     "name": "stdout",
     "output_type": "stream",
     "text": [
      "Found 1308 images belonging to 2 classes.\n"
     ]
    }
   ],
   "source": [
    "train_generator = data_generator.flow_from_directory(\n",
    "    dataset_path,\n",
    "    target_size=img_size,\n",
    "    batch_size=batch_size,\n",
    "    class_mode='binary')"
   ]
  },
  {
   "cell_type": "code",
   "execution_count": 8,
   "metadata": {},
   "outputs": [],
   "source": [
    "input_shape = (224, 224, 3)\n",
    "batch_size = 32"
   ]
  },
  {
   "cell_type": "code",
   "execution_count": 9,
   "metadata": {},
   "outputs": [],
   "source": [
    "image_paths = []\n",
    "labels = []\n",
    "\n",
    "for subdir, dirs, files in os.walk(dataset_path):\n",
    "    for file in files:\n",
    "        if file.endswith('.jpg'):\n",
    "            image_path = os.path.join(subdir, file)\n",
    "            if 'with_mask' in subdir:\n",
    "                label = 1\n",
    "            elif 'without_mask' in subdir:\n",
    "                label = 0\n",
    "            else:\n",
    "                continue # Skip images in other directories\n",
    "            image_paths.append(image_path)\n",
    "            labels.append(label)\n",
    "            \n",
    "labels = [str(label) for label in labels]\n",
    "            "
   ]
  },
  {
   "cell_type": "code",
   "execution_count": 10,
   "metadata": {},
   "outputs": [],
   "source": [
    "train_image_paths, val_image_paths, train_labels, val_labels = train_test_split(image_paths, labels, test_size=0.2)\n"
   ]
  },
  {
   "cell_type": "code",
   "execution_count": 11,
   "metadata": {},
   "outputs": [],
   "source": [
    "train_datagen = ImageDataGenerator(\n",
    "    preprocessing_function=preprocess_input,\n",
    "    rotation_range=20,\n",
    "    width_shift_range=0.2,\n",
    "    height_shift_range=0.2,\n",
    "    zoom_range=0.2,\n",
    "    horizontal_flip=True,\n",
    "    vertical_flip=True\n",
    "    )\n",
    "\n",
    "val_datagen = ImageDataGenerator(preprocessing_function=preprocess_input)"
   ]
  },
  {
   "cell_type": "code",
   "execution_count": 12,
   "metadata": {},
   "outputs": [
    {
     "name": "stdout",
     "output_type": "stream",
     "text": [
      "Found 985 validated image filenames belonging to 2 classes.\n",
      "Found 247 validated image filenames belonging to 2 classes.\n"
     ]
    }
   ],
   "source": [
    "train_generator = train_datagen.flow_from_dataframe(\n",
    "    dataframe=pd.DataFrame({'image': train_image_paths, 'label': train_labels}),\n",
    "    x_col='image',\n",
    "    y_col='label',\n",
    "    target_size=img_size,\n",
    "    batch_size=batch_size,\n",
    "    class_mode='binary',\n",
    "    )\n",
    "\n",
    "val_generator = val_datagen.flow_from_dataframe(\n",
    "    dataframe=pd.DataFrame({'image': val_image_paths, 'label': val_labels}),\n",
    "    x_col='image',\n",
    "    y_col='label',\n",
    "    target_size=img_size,\n",
    "    batch_size=batch_size,\n",
    "    class_mode='binary',\n",
    "    )"
   ]
  },
  {
   "cell_type": "code",
   "execution_count": 13,
   "metadata": {},
   "outputs": [],
   "source": [
    "desnet201 = DenseNet201(weights='imagenet', include_top=False, input_shape=(img_size[0], img_size[1], 3))\n"
   ]
  },
  {
   "cell_type": "code",
   "execution_count": 25,
   "metadata": {},
   "outputs": [],
   "source": [
    "x = desnet201.output\n",
    "x = GlobalAveragePooling2D()(x)\n",
    "x = Dense(1024, activation='relu')(x)\n",
    "x = Dropout(0.5)(x)\n",
    "x = Dense(512, activation='relu')(x)\n",
    "x = Dropout(0.5)(x)\n",
    "x = Dense(256, activation='relu')(x)\n",
    "x = Dropout(0.5)(x)\n",
    "predictions = Dense(1, activation='sigmoid')(x)\n",
    "\n",
    "model = Model(inputs=desnet201.input, outputs=predictions)\n",
    "\n",
    "for layer in model.layers[:300]:\n",
    "    layer.trainable = False\n",
    "\n",
    "model.compile(optimizer=tf.keras.optimizers.Adam(learning_rate=0.0001), loss='binary_crossentropy', metrics=['accuracy'])\n"
   ]
  },
  {
   "cell_type": "code",
   "execution_count": 26,
   "metadata": {},
   "outputs": [],
   "source": [
    "train_steps = len(train_image_paths) \n",
    "val_steps = len(val_image_paths) "
   ]
  },
  {
   "cell_type": "code",
   "execution_count": 27,
   "metadata": {},
   "outputs": [
    {
     "name": "stdout",
     "output_type": "stream",
     "text": [
      "Epoch 1/15\n",
      "31/31 [==============================] - 133s 3s/step - loss: 0.4123 - accuracy: 0.8081 - val_loss: 0.1477 - val_accuracy: 0.9433\n",
      "Epoch 2/15\n",
      "31/31 [==============================] - 83s 3s/step - loss: 0.1472 - accuracy: 0.9431 - val_loss: 0.1542 - val_accuracy: 0.9636\n",
      "Epoch 3/15\n",
      "31/31 [==============================] - 88s 3s/step - loss: 0.1109 - accuracy: 0.9655 - val_loss: 0.1856 - val_accuracy: 0.9555\n",
      "Epoch 4/15\n",
      "31/31 [==============================] - 88s 3s/step - loss: 0.0777 - accuracy: 0.9756 - val_loss: 0.1476 - val_accuracy: 0.9514\n",
      "Epoch 5/15\n",
      "31/31 [==============================] - 95s 3s/step - loss: 0.0377 - accuracy: 0.9888 - val_loss: 0.1567 - val_accuracy: 0.9555\n",
      "Epoch 6/15\n",
      "31/31 [==============================] - 138s 4s/step - loss: 0.0386 - accuracy: 0.9848 - val_loss: 0.1217 - val_accuracy: 0.9676\n",
      "Epoch 7/15\n",
      "31/31 [==============================] - 105s 3s/step - loss: 0.0314 - accuracy: 0.9919 - val_loss: 0.2622 - val_accuracy: 0.9393\n",
      "Epoch 8/15\n",
      "31/31 [==============================] - 137s 4s/step - loss: 0.0397 - accuracy: 0.9878 - val_loss: 0.1957 - val_accuracy: 0.9595\n",
      "Epoch 9/15\n",
      "31/31 [==============================] - 89s 3s/step - loss: 0.0387 - accuracy: 0.9898 - val_loss: 0.2350 - val_accuracy: 0.9555\n",
      "Epoch 10/15\n",
      "31/31 [==============================] - 88s 3s/step - loss: 0.0205 - accuracy: 0.9919 - val_loss: 0.2102 - val_accuracy: 0.9595\n",
      "Epoch 11/15\n",
      "31/31 [==============================] - 87s 3s/step - loss: 0.0234 - accuracy: 0.9888 - val_loss: 0.2608 - val_accuracy: 0.9514\n",
      "Epoch 12/15\n",
      "31/31 [==============================] - 87s 3s/step - loss: 0.0165 - accuracy: 0.9959 - val_loss: 0.1552 - val_accuracy: 0.9595\n",
      "Epoch 13/15\n",
      "31/31 [==============================] - 85s 3s/step - loss: 0.0206 - accuracy: 0.9939 - val_loss: 0.1660 - val_accuracy: 0.9514\n",
      "Epoch 14/15\n",
      "31/31 [==============================] - 84s 3s/step - loss: 0.0216 - accuracy: 0.9939 - val_loss: 0.2144 - val_accuracy: 0.9555\n",
      "Epoch 15/15\n",
      "31/31 [==============================] - 86s 3s/step - loss: 0.0093 - accuracy: 0.9970 - val_loss: 0.1638 - val_accuracy: 0.9636\n"
     ]
    }
   ],
   "source": [
    "history = model.fit(\n",
    "    train_generator,\n",
    "    steps_per_epoch=len(train_generator),\n",
    "    epochs=15,\n",
    "    validation_data=val_generator,\n",
    "    validation_steps=len(val_generator)\n",
    "    )"
   ]
  },
  {
   "cell_type": "code",
   "execution_count": 28,
   "metadata": {},
   "outputs": [],
   "source": [
    "# plt.plot(history.history['accuracy'])\n",
    "# plt.plot(history.history['val_accuracy'])\n",
    "# plt.title('Model accuracy')\n",
    "# plt.ylabel('Accuracy')\n",
    "# plt.xlabel('Epoch')\n",
    "# plt.legend(['Train', 'Val'], loc='upper left')\n",
    "# plt.show()\n",
    "\n",
    "# plt.plot(history.history['loss'])\n",
    "# plt.plot(history.history['val_loss'])\n",
    "# plt.title('Model loss')\n",
    "# plt.ylabel('Loss')\n",
    "# plt.xlabel('Epoch')\n",
    "# plt.legend(['Train', 'Val'], loc='upper left')\n",
    "# plt.show()"
   ]
  },
  {
   "cell_type": "code",
   "execution_count": 29,
   "metadata": {},
   "outputs": [],
   "source": [
    "# model.save('my_model.h5')"
   ]
  },
  {
   "cell_type": "code",
   "execution_count": 30,
   "metadata": {},
   "outputs": [],
   "source": [
    "\n",
    "# def predict_mask(image_path):\n",
    "#     img = image.load_img(image_path, target_size=(224, 224))\n",
    "#     img_array = image.img_to_array(img)\n",
    "#     img_batch = np.expand_dims(img_array, axis=0)\n",
    "#     img_preprocessed = img_batch / 255.\n",
    "\n",
    "#     prediction = model.predict(img_preprocessed)\n",
    "#     if prediction < 0.5:\n",
    "#         print('No mask')\n",
    "#     else:\n",
    "#         print('Mask')\n",
    "\n",
    "#     plt.imshow(img)\n",
    "#     plt.show()\n",
    "\n",
    "# image_path = './Trials/img3.jpg'\n",
    "# predict_mask(image_path)"
   ]
  },
  {
   "cell_type": "code",
   "execution_count": 31,
   "metadata": {},
   "outputs": [],
   "source": [
    "# import keras.utils as image\n",
    "\n",
    "# image_dir = './images/'\n",
    "\n",
    "# predicted_classes = []\n",
    "\n",
    "# for filename in os.listdir(image_dir):\n",
    "    # img_path = os.path.join(image_dir, filename)\n",
    "    # img = image.load_img(img_path, target_size=(224, 224))\n",
    "    # x = image.img_to_array(img)\n",
    "    # x = np.expand_dims(x, axis=0)\n",
    "    # x = preprocess_input(x)\n",
    "    # prediction = model.predict(x)\n",
    "\n",
    "#     if prediction < 0.5:\n",
    "#         print('{}: No mask'.format(filename))\n",
    "#     else:\n",
    "#         print('{}: Mask'.format(filename))"
   ]
  },
  {
   "cell_type": "code",
   "execution_count": 32,
   "metadata": {},
   "outputs": [],
   "source": [
    "image_list = pd.read_csv('./SampleSubmission.csv')\n",
    "output_df = pd.DataFrame(columns=['image', 'target'])\n",
    "i_dir = './images/'\n",
    "\n",
    "for i in range(len(image_list)):\n",
    "    filename = image_list['image'][i]\n",
    "    img_path = os.path.join(i_dir, filename)\n",
    "    img = image.load_img(img_path, target_size=(224, 224))\n",
    "    x = image.img_to_array(img)\n",
    "    x = np.expand_dims(x, axis=0)\n",
    "    x = preprocess_input(x)\n",
    "    prediction = model.predict(x)\n",
    "    prediction = np.round(prediction)[0][0]\n",
    "    # prediction = round(float(prediction), 3)\n",
    "    output_df.loc[i] = [filename, prediction]\n",
    "    output_df.columns = ['id', 'label']\n",
    "\n",
    "output_df.to_csv('Desnet201v3.csv', index=False)"
   ]
  },
  {
   "cell_type": "code",
   "execution_count": 33,
   "metadata": {},
   "outputs": [],
   "source": [
    "# def move_images_from_csv(src_dir, dst_dir, csv_path):\n",
    "#     df = pd.read_csv(csv_path)\n",
    "    \n",
    "#     os.makedirs(dst_dir, exist_ok=True)\n",
    "    \n",
    "#     for filename in os.listdir(src_dir):\n",
    "#         if filename.lower().endswith(('.png', '.jpg', '.jpeg')):\n",
    "#             if filename in df['image'].values:\n",
    "#                 src_path = os.path.join(src_dir, filename)\n",
    "#                 dst_path = os.path.join(dst_dir, filename)\n",
    "                \n",
    "#                 shutil.move(src_path, dst_path)\n",
    "\n",
    "# dst_dir = './validation_data'\n",
    "# src_dir = './images/'\n",
    "# csv_path = './SampleSubmission.csv'\n",
    "\n",
    "# move_images_from_csv(src_dir, dst_dir, csv_path)"
   ]
  },
  {
   "cell_type": "code",
   "execution_count": 34,
   "metadata": {},
   "outputs": [],
   "source": [
    "# def display_image_with_prediction(csv_path, img_dir, idx):\n",
    "#     df = pd.read_csv(csv_path)\n",
    "    \n",
    "#     filename = df.iloc[idx]['id']\n",
    "#     prediction = df.iloc[idx]['label']\n",
    "    \n",
    "#     path = os.path.join(img_dir, filename)\n",
    "#     img = cv2.imread(path)\n",
    "    \n",
    "#     if prediction == 0:\n",
    "#         title = \"No Mask\"\n",
    "#     else:\n",
    "#         title = \"Mask\"\n",
    "    \n",
    "#     cv2.imshow(title, img)\n",
    "#     cv2.waitKey(0)\n",
    "#     cv2.destroyAllWindows()\n",
    "    \n",
    "# dst_dir = './validation_data'\n",
    "# csv_path = './ResNet50.csv'\n",
    "\n",
    "# display_image_with_prediction(csv_path, dst_dir, 506)"
   ]
  },
  {
   "cell_type": "code",
   "execution_count": 41,
   "metadata": {},
   "outputs": [],
   "source": [
    "df1 = pd.read_csv('./Submission7.csv')\n",
    "df2 = pd.read_csv('./Submission9.csv')\n",
    "\n",
    "merged_csv = pd.merge(df1, df2, on='id', suffixes=('_1', '_2'))\n",
    "\n",
    "different_labels = merged_csv[merged_csv['label_1'] != merged_csv['label_2']]\n",
    "\n",
    "different_labels.to_csv('different_labels.csv', index=False)"
   ]
  },
  {
   "cell_type": "code",
   "execution_count": null,
   "metadata": {},
   "outputs": [],
   "source": []
  }
 ],
 "metadata": {
  "kernelspec": {
   "display_name": "Python 3",
   "language": "python",
   "name": "python3"
  },
  "language_info": {
   "codemirror_mode": {
    "name": "ipython",
    "version": 3
   },
   "file_extension": ".py",
   "mimetype": "text/x-python",
   "name": "python",
   "nbconvert_exporter": "python",
   "pygments_lexer": "ipython3",
   "version": "3.9.16"
  },
  "orig_nbformat": 4
 },
 "nbformat": 4,
 "nbformat_minor": 2
}
